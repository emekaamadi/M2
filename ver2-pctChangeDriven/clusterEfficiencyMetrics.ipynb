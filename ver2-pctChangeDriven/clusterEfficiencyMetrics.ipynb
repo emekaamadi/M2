{
 "cells": [
  {
   "cell_type": "markdown",
   "id": "ca5fc55e-64ac-427d-a3bd-62c0c0f81e51",
   "metadata": {},
   "source": [
    "## cluster efficiency metrics\n",
    "\n",
    "ecpress the productive mean of eeach cluster"
   ]
  },
  {
   "cell_type": "code",
   "execution_count": 1,
   "id": "bde6f834-e882-48b6-b626-ccb706a61fdc",
   "metadata": {},
   "outputs": [],
   "source": [
    "#load the most recent clustering run, and divulge the mean surge target met percentage among each cluster\n",
    "\n"
   ]
  }
 ],
 "metadata": {
  "kernelspec": {
   "display_name": "Python 3 (ipykernel)",
   "language": "python",
   "name": "python3"
  },
  "language_info": {
   "codemirror_mode": {
    "name": "ipython",
    "version": 3
   },
   "file_extension": ".py",
   "mimetype": "text/x-python",
   "name": "python",
   "nbconvert_exporter": "python",
   "pygments_lexer": "ipython3",
   "version": "3.8.10"
  }
 },
 "nbformat": 4,
 "nbformat_minor": 5
}
