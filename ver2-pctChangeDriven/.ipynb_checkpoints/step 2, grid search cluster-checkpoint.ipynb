{
 "cells": [
  {
   "cell_type": "markdown",
   "id": "9aaa4fcc-1a03-4f20-a9dd-7ce3d60ccb52",
   "metadata": {},
   "source": [
    "## premise: Grid search for clustering solution\n",
    "\n",
    "via skleanr pipeline and grid search"
   ]
  },
  {
   "cell_type": "code",
   "execution_count": 2,
   "id": "beea8fea-ae81-4e3f-9bff-fc4f8bd3f443",
   "metadata": {},
   "outputs": [],
   "source": [
    "import pandas as pd\n",
    "from sklearn.cluster import KMeans\n",
    "from sklearn.model_selection import GridSearchCV\n",
    "import sklearn.metrics\n",
    "from sklearn import preprocessing"
   ]
  },
  {
   "cell_type": "code",
   "execution_count": 3,
   "id": "0084e4ae-20f9-4081-93df-7822264899b1",
   "metadata": {},
   "outputs": [
    {
     "name": "stdout",
     "output_type": "stream",
     "text": [
      "0\n"
     ]
    },
    {
     "data": {
      "text/plain": [
       "precursor_buy_cap_pct_change    float64\n",
       "precursor_ask_cap_pct_change    float64\n",
       "precursor_bid_vol_pct_change    float64\n",
       "precursor_ask_vol_pct_change    float64\n",
       "change.1                        float64\n",
       "surge_targets_met_pct           float64\n",
       "dtype: object"
      ]
     },
     "execution_count": 3,
     "metadata": {},
     "output_type": "execute_result"
    }
   ],
   "source": [
    "#load pipeline 1 csv and prep for clustering\n",
    "m2_pipeline = pd.read_csv('pipeline1.csv')\n",
    "#change is surge price rate of change per observation, change.1 is precursor\n",
    "#sum_change is surge sum_change per surge, and surge_area is surge alone\n",
    "keepable = ['precursor_buy_cap_pct_change', \n",
    "            'precursor_ask_cap_pct_change',\n",
    "            'precursor_bid_vol_pct_change', \n",
    "            'precursor_ask_vol_pct_change', 'change.1',\n",
    "            'surge_targets_met_pct']\n",
    "# Load the data into a pandas dataframe\n",
    "# df = pd.read_csv('data.csv')\n",
    "\n",
    "# Normalize the 'surge_targets_met_pct' column\n",
    "x = m2_pipeline[['surge_targets_met_pct']].values.astype(float)\n",
    "min_max_scaler = preprocessing.MinMaxScaler()\n",
    "x_scaled = min_max_scaler.fit_transform(x)\n",
    "m2_pipeline['surge_targets_met_pct_normalized'] = pd.DataFrame(x_scaled)\n",
    "\n",
    "\n",
    "m2_pipeline = m2_pipeline[keepable]\n",
    "m2_pipeline = m2_pipeline.dropna()\n",
    "print(m2_pipeline.isna().sum(axis=1).astype(bool).sum())\n",
    "m2_pipeline = m2_pipeline.astype('float')\n",
    "m2_pipeline.dtypes"
   ]
  },
  {
   "cell_type": "code",
   "execution_count": 12,
   "id": "d4d454ab-b649-4abd-bce4-801893ab1ce2",
   "metadata": {},
   "outputs": [
    {
     "name": "stdout",
     "output_type": "stream",
     "text": [
      "['accuracy', 'adjusted_mutual_info_score', 'adjusted_rand_score', 'average_precision', 'balanced_accuracy', 'completeness_score', 'explained_variance', 'f1', 'f1_macro', 'f1_micro', 'f1_samples', 'f1_weighted', 'fowlkes_mallows_score', 'homogeneity_score', 'jaccard', 'jaccard_macro', 'jaccard_micro', 'jaccard_samples', 'jaccard_weighted', 'matthews_corrcoef', 'max_error', 'mutual_info_score', 'neg_brier_score', 'neg_log_loss', 'neg_mean_absolute_error', 'neg_mean_absolute_percentage_error', 'neg_mean_gamma_deviance', 'neg_mean_poisson_deviance', 'neg_mean_squared_error', 'neg_mean_squared_log_error', 'neg_median_absolute_error', 'neg_negative_likelihood_ratio', 'neg_root_mean_squared_error', 'normalized_mutual_info_score', 'positive_likelihood_ratio', 'precision', 'precision_macro', 'precision_micro', 'precision_samples', 'precision_weighted', 'r2', 'rand_score', 'recall', 'recall_macro', 'recall_micro', 'recall_samples', 'recall_weighted', 'roc_auc', 'roc_auc_ovo', 'roc_auc_ovo_weighted', 'roc_auc_ovr', 'roc_auc_ovr_weighted', 'top_k_accuracy', 'v_measure_score']\n"
     ]
    }
   ],
   "source": [
    "print(sklearn.metrics.get_scorer_names())"
   ]
  },
  {
   "cell_type": "code",
   "execution_count": 19,
   "id": "db9b5d97-4176-40d4-812d-94a933e75878",
   "metadata": {},
   "outputs": [],
   "source": [
    "\n",
    "# # Load the data into a pandas dataframe\n",
    "# # df = pd.read_csv('data.csv')\n",
    "\n",
    "# # Define the estimator you want to use for clustering\n",
    "# estimator = KMeans()\n",
    "\n",
    "# # Define the parameter grid that you want to search over\n",
    "# param_grid = {'n_clusters': [2, 3, 4, 5]}\n",
    "\n",
    "# # Define the scoring metric you want to use\n",
    "# scoring = 'silhouette'\n",
    "\n",
    "# # Define the GridSearchCV object with the estimator, parameter grid, and scoring metric\n",
    "# grid_search = GridSearchCV(estimator=estimator, param_grid=param_grid, scoring=scoring)\n",
    "\n",
    "# # Fit the GridSearchCV object to your data\n",
    "# grid_search.fit(m2_pipeline)\n"
   ]
  },
  {
   "cell_type": "markdown",
   "id": "c089cf4d-7ce1-4e9d-90cc-200e5e874716",
   "metadata": {},
   "source": [
    "### clustering types\n",
    "\n",
    "K-Means\n",
    "Affinity propagation\n",
    "Mean Shift\n",
    "Spectral Clustering\n",
    "Agglomerative Clustering\n",
    "DBSCAN\n",
    "OPTICS\n",
    "Birch\n",
    "Gaussian Mixture\n",
    "MiniBatch K-Means\n",
    "Affinity Propagation"
   ]
  },
  {
   "cell_type": "code",
   "execution_count": 5,
   "id": "f432f579-c5e4-4cfb-b90d-5208ebd28da8",
   "metadata": {},
   "outputs": [
    {
     "name": "stdout",
     "output_type": "stream",
     "text": [
      "for cluster size 4\n"
     ]
    },
    {
     "name": "stderr",
     "output_type": "stream",
     "text": [
      "/home/stefan/Desktop/GRUS/caret1/lib/python3.8/site-packages/sklearn/cluster/_kmeans.py:870: FutureWarning: The default value of `n_init` will change from 10 to 'auto' in 1.4. Set the value of `n_init` explicitly to suppress the warning\n",
      "  warnings.warn(\n"
     ]
    },
    {
     "name": "stdout",
     "output_type": "stream",
     "text": [
      "{'algo': 'KMeans', 'score': 0.6455332908395774, 'clusters': 4}\n",
      "{'algo': 'Agglomerative', 'score': 0.5544786252177756, 'clusters': 4}\n"
     ]
    },
    {
     "name": "stderr",
     "output_type": "stream",
     "text": [
      "/home/stefan/Desktop/GRUS/caret1/lib/python3.8/site-packages/sklearn/manifold/_spectral_embedding.py:274: UserWarning: Graph is not fully connected, spectral embedding may not work as expected.\n",
      "  warnings.warn(\n"
     ]
    },
    {
     "name": "stdout",
     "output_type": "stream",
     "text": [
      "{'algo': 'Spectral', 'score': 0.8894194271443359, 'clusters': 4}\n",
      "{'algo': 'Birch', 'score': 0.8963065534883663, 'clusters': 4}\n",
      "for cluster size 5\n"
     ]
    },
    {
     "name": "stderr",
     "output_type": "stream",
     "text": [
      "/home/stefan/Desktop/GRUS/caret1/lib/python3.8/site-packages/sklearn/cluster/_kmeans.py:870: FutureWarning: The default value of `n_init` will change from 10 to 'auto' in 1.4. Set the value of `n_init` explicitly to suppress the warning\n",
      "  warnings.warn(\n"
     ]
    },
    {
     "name": "stdout",
     "output_type": "stream",
     "text": [
      "{'algo': 'KMeans', 'score': 0.559216943942274, 'clusters': 5}\n",
      "{'algo': 'Agglomerative', 'score': 0.5643203301653003, 'clusters': 5}\n"
     ]
    },
    {
     "name": "stderr",
     "output_type": "stream",
     "text": [
      "/home/stefan/Desktop/GRUS/caret1/lib/python3.8/site-packages/sklearn/manifold/_spectral_embedding.py:274: UserWarning: Graph is not fully connected, spectral embedding may not work as expected.\n",
      "  warnings.warn(\n"
     ]
    },
    {
     "name": "stdout",
     "output_type": "stream",
     "text": [
      "{'algo': 'Spectral', 'score': 0.8650954651734716, 'clusters': 5}\n",
      "{'algo': 'Birch', 'score': 0.8897806396215054, 'clusters': 5}\n",
      "for cluster size 6\n"
     ]
    },
    {
     "name": "stderr",
     "output_type": "stream",
     "text": [
      "/home/stefan/Desktop/GRUS/caret1/lib/python3.8/site-packages/sklearn/cluster/_kmeans.py:870: FutureWarning: The default value of `n_init` will change from 10 to 'auto' in 1.4. Set the value of `n_init` explicitly to suppress the warning\n",
      "  warnings.warn(\n"
     ]
    },
    {
     "name": "stdout",
     "output_type": "stream",
     "text": [
      "{'algo': 'KMeans', 'score': 0.4713397557069962, 'clusters': 6}\n",
      "{'algo': 'Agglomerative', 'score': 0.381872491666767, 'clusters': 6}\n"
     ]
    },
    {
     "name": "stderr",
     "output_type": "stream",
     "text": [
      "/home/stefan/Desktop/GRUS/caret1/lib/python3.8/site-packages/sklearn/manifold/_spectral_embedding.py:274: UserWarning: Graph is not fully connected, spectral embedding may not work as expected.\n",
      "  warnings.warn(\n"
     ]
    },
    {
     "name": "stdout",
     "output_type": "stream",
     "text": [
      "{'algo': 'Spectral', 'score': 0.860072471203043, 'clusters': 6}\n",
      "{'algo': 'Birch', 'score': 0.6744131267918048, 'clusters': 6}\n",
      "for cluster size 7\n"
     ]
    },
    {
     "name": "stderr",
     "output_type": "stream",
     "text": [
      "/home/stefan/Desktop/GRUS/caret1/lib/python3.8/site-packages/sklearn/cluster/_kmeans.py:870: FutureWarning: The default value of `n_init` will change from 10 to 'auto' in 1.4. Set the value of `n_init` explicitly to suppress the warning\n",
      "  warnings.warn(\n"
     ]
    },
    {
     "name": "stdout",
     "output_type": "stream",
     "text": [
      "{'algo': 'KMeans', 'score': 0.5319741457108857, 'clusters': 7}\n",
      "{'algo': 'Agglomerative', 'score': 0.3822319644010064, 'clusters': 7}\n"
     ]
    },
    {
     "name": "stderr",
     "output_type": "stream",
     "text": [
      "/home/stefan/Desktop/GRUS/caret1/lib/python3.8/site-packages/sklearn/manifold/_spectral_embedding.py:274: UserWarning: Graph is not fully connected, spectral embedding may not work as expected.\n",
      "  warnings.warn(\n"
     ]
    },
    {
     "name": "stdout",
     "output_type": "stream",
     "text": [
      "{'algo': 'Spectral', 'score': 0.8529175760916948, 'clusters': 7}\n",
      "{'algo': 'Birch', 'score': 0.674899790548584, 'clusters': 7}\n",
      "for cluster size 8\n"
     ]
    },
    {
     "name": "stderr",
     "output_type": "stream",
     "text": [
      "/home/stefan/Desktop/GRUS/caret1/lib/python3.8/site-packages/sklearn/cluster/_kmeans.py:870: FutureWarning: The default value of `n_init` will change from 10 to 'auto' in 1.4. Set the value of `n_init` explicitly to suppress the warning\n",
      "  warnings.warn(\n"
     ]
    },
    {
     "name": "stdout",
     "output_type": "stream",
     "text": [
      "{'algo': 'KMeans', 'score': 0.526166002404663, 'clusters': 8}\n",
      "{'algo': 'Agglomerative', 'score': 0.38847626939917296, 'clusters': 8}\n"
     ]
    },
    {
     "name": "stderr",
     "output_type": "stream",
     "text": [
      "/home/stefan/Desktop/GRUS/caret1/lib/python3.8/site-packages/sklearn/manifold/_spectral_embedding.py:274: UserWarning: Graph is not fully connected, spectral embedding may not work as expected.\n",
      "  warnings.warn(\n"
     ]
    },
    {
     "name": "stdout",
     "output_type": "stream",
     "text": [
      "{'algo': 'Spectral', 'score': 0.7763038471019854, 'clusters': 8}\n",
      "{'algo': 'Birch', 'score': 0.6739887885839931, 'clusters': 8}\n",
      "for cluster size 9\n"
     ]
    },
    {
     "name": "stderr",
     "output_type": "stream",
     "text": [
      "/home/stefan/Desktop/GRUS/caret1/lib/python3.8/site-packages/sklearn/cluster/_kmeans.py:870: FutureWarning: The default value of `n_init` will change from 10 to 'auto' in 1.4. Set the value of `n_init` explicitly to suppress the warning\n",
      "  warnings.warn(\n"
     ]
    },
    {
     "name": "stdout",
     "output_type": "stream",
     "text": [
      "{'algo': 'KMeans', 'score': 0.5290761952686733, 'clusters': 9}\n",
      "{'algo': 'Agglomerative', 'score': 0.3889831387281811, 'clusters': 9}\n"
     ]
    },
    {
     "name": "stderr",
     "output_type": "stream",
     "text": [
      "/home/stefan/Desktop/GRUS/caret1/lib/python3.8/site-packages/sklearn/manifold/_spectral_embedding.py:274: UserWarning: Graph is not fully connected, spectral embedding may not work as expected.\n",
      "  warnings.warn(\n"
     ]
    },
    {
     "name": "stdout",
     "output_type": "stream",
     "text": [
      "{'algo': 'Spectral', 'score': 0.7733864804657862, 'clusters': 9}\n",
      "{'algo': 'Birch', 'score': 0.673894150359468, 'clusters': 9}\n",
      "for cluster size 10\n"
     ]
    },
    {
     "name": "stderr",
     "output_type": "stream",
     "text": [
      "/home/stefan/Desktop/GRUS/caret1/lib/python3.8/site-packages/sklearn/cluster/_kmeans.py:870: FutureWarning: The default value of `n_init` will change from 10 to 'auto' in 1.4. Set the value of `n_init` explicitly to suppress the warning\n",
      "  warnings.warn(\n"
     ]
    },
    {
     "name": "stdout",
     "output_type": "stream",
     "text": [
      "{'algo': 'KMeans', 'score': 0.48534213588569053, 'clusters': 10}\n",
      "{'algo': 'Agglomerative', 'score': 0.41540364706459565, 'clusters': 10}\n"
     ]
    },
    {
     "name": "stderr",
     "output_type": "stream",
     "text": [
      "/home/stefan/Desktop/GRUS/caret1/lib/python3.8/site-packages/sklearn/manifold/_spectral_embedding.py:274: UserWarning: Graph is not fully connected, spectral embedding may not work as expected.\n",
      "  warnings.warn(\n"
     ]
    },
    {
     "name": "stdout",
     "output_type": "stream",
     "text": [
      "{'algo': 'Spectral', 'score': 0.7547513837605193, 'clusters': 10}\n",
      "{'algo': 'Birch', 'score': 0.6470633893096103, 'clusters': 10}\n",
      "for cluster size 11\n"
     ]
    },
    {
     "name": "stderr",
     "output_type": "stream",
     "text": [
      "/home/stefan/Desktop/GRUS/caret1/lib/python3.8/site-packages/sklearn/cluster/_kmeans.py:870: FutureWarning: The default value of `n_init` will change from 10 to 'auto' in 1.4. Set the value of `n_init` explicitly to suppress the warning\n",
      "  warnings.warn(\n"
     ]
    },
    {
     "name": "stdout",
     "output_type": "stream",
     "text": [
      "{'algo': 'KMeans', 'score': 0.4778905428239072, 'clusters': 11}\n",
      "{'algo': 'Agglomerative', 'score': 0.4244966269048636, 'clusters': 11}\n"
     ]
    },
    {
     "name": "stderr",
     "output_type": "stream",
     "text": [
      "/home/stefan/Desktop/GRUS/caret1/lib/python3.8/site-packages/sklearn/manifold/_spectral_embedding.py:274: UserWarning: Graph is not fully connected, spectral embedding may not work as expected.\n",
      "  warnings.warn(\n"
     ]
    },
    {
     "name": "stdout",
     "output_type": "stream",
     "text": [
      "{'algo': 'Spectral', 'score': 0.7622392704381659, 'clusters': 11}\n",
      "{'algo': 'Birch', 'score': 0.6450014158194325, 'clusters': 11}\n",
      "for cluster size 12\n"
     ]
    },
    {
     "name": "stderr",
     "output_type": "stream",
     "text": [
      "/home/stefan/Desktop/GRUS/caret1/lib/python3.8/site-packages/sklearn/cluster/_kmeans.py:870: FutureWarning: The default value of `n_init` will change from 10 to 'auto' in 1.4. Set the value of `n_init` explicitly to suppress the warning\n",
      "  warnings.warn(\n"
     ]
    },
    {
     "name": "stdout",
     "output_type": "stream",
     "text": [
      "{'algo': 'KMeans', 'score': 0.46414071698499537, 'clusters': 12}\n",
      "{'algo': 'Agglomerative', 'score': 0.4222297884377017, 'clusters': 12}\n"
     ]
    },
    {
     "name": "stderr",
     "output_type": "stream",
     "text": [
      "/home/stefan/Desktop/GRUS/caret1/lib/python3.8/site-packages/sklearn/manifold/_spectral_embedding.py:274: UserWarning: Graph is not fully connected, spectral embedding may not work as expected.\n",
      "  warnings.warn(\n"
     ]
    },
    {
     "name": "stdout",
     "output_type": "stream",
     "text": [
      "{'algo': 'Spectral', 'score': 0.7721629675285338, 'clusters': 12}\n",
      "{'algo': 'Birch', 'score': 0.6443349201464048, 'clusters': 12}\n",
      "             algo     score  clusters\n",
      "0          KMeans  0.645533         4\n",
      "1   Agglomerative  0.554479         4\n",
      "2        Spectral  0.889419         4\n",
      "3           Birch  0.896307         4\n",
      "4          KMeans  0.559217         5\n",
      "5   Agglomerative  0.564320         5\n",
      "6        Spectral  0.865095         5\n",
      "7           Birch  0.889781         5\n",
      "8          KMeans  0.471340         6\n",
      "9   Agglomerative  0.381872         6\n",
      "10       Spectral  0.860072         6\n",
      "11          Birch  0.674413         6\n",
      "12         KMeans  0.531974         7\n",
      "13  Agglomerative  0.382232         7\n",
      "14       Spectral  0.852918         7\n",
      "15          Birch  0.674900         7\n",
      "16         KMeans  0.526166         8\n",
      "17  Agglomerative  0.388476         8\n",
      "18       Spectral  0.776304         8\n",
      "19          Birch  0.673989         8\n",
      "20         KMeans  0.529076         9\n",
      "21  Agglomerative  0.388983         9\n",
      "22       Spectral  0.773386         9\n",
      "23          Birch  0.673894         9\n",
      "24         KMeans  0.485342        10\n",
      "25  Agglomerative  0.415404        10\n",
      "26       Spectral  0.754751        10\n",
      "27          Birch  0.647063        10\n",
      "28         KMeans  0.477891        11\n",
      "29  Agglomerative  0.424497        11\n",
      "30       Spectral  0.762239        11\n",
      "31          Birch  0.645001        11\n",
      "32         KMeans  0.464141        12\n",
      "33  Agglomerative  0.422230        12\n",
      "34       Spectral  0.772163        12\n",
      "35          Birch  0.644335        12\n"
     ]
    }
   ],
   "source": [
    "## alternative: specifying cluster value\n",
    "import pandas as pd \n",
    "from sklearn.cluster import KMeans, AgglomerativeClustering, SpectralClustering,\\\n",
    "MeanShift, AffinityPropagation, DBSCAN, OPTICS, Birch\n",
    "from sklearn.metrics import silhouette_score \n",
    "\n",
    "data =  m2_pipeline\n",
    "scores = []  # feed in experiments as a dictionary of parameters and scores\n",
    "\n",
    "csize = [4,5,6,7,8,9,10, 11, 12]\n",
    "for i in range(len(csize)):\n",
    "    c= csize[i]\n",
    "    print(\"for cluster size\",c)\n",
    "    kmeans = KMeans(n_clusters=c) #\n",
    "    hierarchical = AgglomerativeClustering(n_clusters=c) \n",
    "    spectral = SpectralClustering(n_clusters=c) \n",
    "    birch = Birch(n_clusters=c)\n",
    "    algorithms = [(kmeans, 'KMeans'), (hierarchical, 'Agglomerative'), (spectral, 'Spectral'), (birch, 'Birch')] \n",
    "    for algorithm, name in algorithms: # Loop over the algorithms and calculate the silhouette score for each\n",
    "        algorithm.fit(data) \n",
    "        \n",
    "        score= silhouette_score(data, algorithm.labels_) \n",
    "        fin = {\"algo\":name, \"score\":score, \"clusters\":c}\n",
    "        print(fin)\n",
    "        scores.append(fin) \n",
    "\n",
    "results = pd.DataFrame(scores)  #{'Algorithm': [name for _, name in algorithms], 'Silhouette Score': scores}) \n",
    "print(results) "
   ]
  },
  {
   "cell_type": "code",
   "execution_count": 6,
   "id": "650c956a-97b0-4aea-ab44-bb91c5861e38",
   "metadata": {},
   "outputs": [],
   "source": [
    "results.to_csv('ranked_classifier_search.csv', index=False)"
   ]
  },
  {
   "cell_type": "code",
   "execution_count": 42,
   "id": "8df9b3af-0c3b-4beb-8cd7-7f50ac83ba81",
   "metadata": {},
   "outputs": [
    {
     "name": "stderr",
     "output_type": "stream",
     "text": [
      "/home/stefan/Desktop/GRUS/caret1/lib/python3.8/site-packages/sklearn/cluster/_kmeans.py:870: FutureWarning: The default value of `n_init` will change from 10 to 'auto' in 1.4. Set the value of `n_init` explicitly to suppress the warning\n",
      "  warnings.warn(\n",
      "/home/stefan/Desktop/GRUS/caret1/lib/python3.8/site-packages/sklearn/manifold/_spectral_embedding.py:274: UserWarning: Graph is not fully connected, spectral embedding may not work as expected.\n",
      "  warnings.warn(\n",
      "/home/stefan/Desktop/GRUS/caret1/lib/python3.8/site-packages/sklearn/cluster/_affinity_propagation.py:143: ConvergenceWarning: Affinity propagation did not converge, this model may return degenerate cluster centers and labels.\n",
      "  warnings.warn(\n"
     ]
    },
    {
     "ename": "ValueError",
     "evalue": "All arrays must be of the same length",
     "output_type": "error",
     "traceback": [
      "\u001b[0;31m---------------------------------------------------------------------------\u001b[0m",
      "\u001b[0;31mValueError\u001b[0m                                Traceback (most recent call last)",
      "Cell \u001b[0;32mIn[42], line 13\u001b[0m\n\u001b[1;32m     11\u001b[0m         scores\u001b[38;5;241m.\u001b[39mappend(score) \n\u001b[1;32m     12\u001b[0m \u001b[38;5;66;03m# Create a dataframe to store the results \u001b[39;00m\n\u001b[0;32m---> 13\u001b[0m results2 \u001b[38;5;241m=\u001b[39m \u001b[43mpd\u001b[49m\u001b[38;5;241;43m.\u001b[39;49m\u001b[43mDataFrame\u001b[49m\u001b[43m(\u001b[49m\u001b[43m{\u001b[49m\u001b[38;5;124;43m'\u001b[39;49m\u001b[38;5;124;43mAlgorithm\u001b[39;49m\u001b[38;5;124;43m'\u001b[39;49m\u001b[43m:\u001b[49m\u001b[43m \u001b[49m\u001b[43m[\u001b[49m\u001b[43mname\u001b[49m\u001b[43m \u001b[49m\u001b[38;5;28;43;01mfor\u001b[39;49;00m\u001b[43m \u001b[49m\u001b[43m_\u001b[49m\u001b[43m,\u001b[49m\u001b[43m \u001b[49m\u001b[43mname\u001b[49m\u001b[43m \u001b[49m\u001b[38;5;129;43;01min\u001b[39;49;00m\u001b[43m \u001b[49m\u001b[43malgorithms2\u001b[49m\u001b[43m]\u001b[49m\u001b[43m,\u001b[49m\u001b[43m \u001b[49m\u001b[38;5;124;43m'\u001b[39;49m\u001b[38;5;124;43mSilhouette Score\u001b[39;49m\u001b[38;5;124;43m'\u001b[39;49m\u001b[43m:\u001b[49m\u001b[43m \u001b[49m\u001b[43mscores2\u001b[49m\u001b[43m}\u001b[49m\u001b[43m)\u001b[49m \n\u001b[1;32m     14\u001b[0m \u001b[38;5;28mprint\u001b[39m(results2)\n",
      "File \u001b[0;32m~/Desktop/GRUS/caret1/lib/python3.8/site-packages/pandas/core/frame.py:664\u001b[0m, in \u001b[0;36mDataFrame.__init__\u001b[0;34m(self, data, index, columns, dtype, copy)\u001b[0m\n\u001b[1;32m    658\u001b[0m     mgr \u001b[38;5;241m=\u001b[39m \u001b[38;5;28mself\u001b[39m\u001b[38;5;241m.\u001b[39m_init_mgr(\n\u001b[1;32m    659\u001b[0m         data, axes\u001b[38;5;241m=\u001b[39m{\u001b[38;5;124m\"\u001b[39m\u001b[38;5;124mindex\u001b[39m\u001b[38;5;124m\"\u001b[39m: index, \u001b[38;5;124m\"\u001b[39m\u001b[38;5;124mcolumns\u001b[39m\u001b[38;5;124m\"\u001b[39m: columns}, dtype\u001b[38;5;241m=\u001b[39mdtype, copy\u001b[38;5;241m=\u001b[39mcopy\n\u001b[1;32m    660\u001b[0m     )\n\u001b[1;32m    662\u001b[0m \u001b[38;5;28;01melif\u001b[39;00m \u001b[38;5;28misinstance\u001b[39m(data, \u001b[38;5;28mdict\u001b[39m):\n\u001b[1;32m    663\u001b[0m     \u001b[38;5;66;03m# GH#38939 de facto copy defaults to False only in non-dict cases\u001b[39;00m\n\u001b[0;32m--> 664\u001b[0m     mgr \u001b[38;5;241m=\u001b[39m \u001b[43mdict_to_mgr\u001b[49m\u001b[43m(\u001b[49m\u001b[43mdata\u001b[49m\u001b[43m,\u001b[49m\u001b[43m \u001b[49m\u001b[43mindex\u001b[49m\u001b[43m,\u001b[49m\u001b[43m \u001b[49m\u001b[43mcolumns\u001b[49m\u001b[43m,\u001b[49m\u001b[43m \u001b[49m\u001b[43mdtype\u001b[49m\u001b[38;5;241;43m=\u001b[39;49m\u001b[43mdtype\u001b[49m\u001b[43m,\u001b[49m\u001b[43m \u001b[49m\u001b[43mcopy\u001b[49m\u001b[38;5;241;43m=\u001b[39;49m\u001b[43mcopy\u001b[49m\u001b[43m,\u001b[49m\u001b[43m \u001b[49m\u001b[43mtyp\u001b[49m\u001b[38;5;241;43m=\u001b[39;49m\u001b[43mmanager\u001b[49m\u001b[43m)\u001b[49m\n\u001b[1;32m    665\u001b[0m \u001b[38;5;28;01melif\u001b[39;00m \u001b[38;5;28misinstance\u001b[39m(data, ma\u001b[38;5;241m.\u001b[39mMaskedArray):\n\u001b[1;32m    666\u001b[0m     \u001b[38;5;28;01mimport\u001b[39;00m \u001b[38;5;21;01mnumpy\u001b[39;00m\u001b[38;5;21;01m.\u001b[39;00m\u001b[38;5;21;01mma\u001b[39;00m\u001b[38;5;21;01m.\u001b[39;00m\u001b[38;5;21;01mmrecords\u001b[39;00m \u001b[38;5;28;01mas\u001b[39;00m \u001b[38;5;21;01mmrecords\u001b[39;00m\n",
      "File \u001b[0;32m~/Desktop/GRUS/caret1/lib/python3.8/site-packages/pandas/core/internals/construction.py:493\u001b[0m, in \u001b[0;36mdict_to_mgr\u001b[0;34m(data, index, columns, dtype, typ, copy)\u001b[0m\n\u001b[1;32m    489\u001b[0m     \u001b[38;5;28;01melse\u001b[39;00m:\n\u001b[1;32m    490\u001b[0m         \u001b[38;5;66;03m# dtype check to exclude e.g. range objects, scalars\u001b[39;00m\n\u001b[1;32m    491\u001b[0m         arrays \u001b[38;5;241m=\u001b[39m [x\u001b[38;5;241m.\u001b[39mcopy() \u001b[38;5;28;01mif\u001b[39;00m \u001b[38;5;28mhasattr\u001b[39m(x, \u001b[38;5;124m\"\u001b[39m\u001b[38;5;124mdtype\u001b[39m\u001b[38;5;124m\"\u001b[39m) \u001b[38;5;28;01melse\u001b[39;00m x \u001b[38;5;28;01mfor\u001b[39;00m x \u001b[38;5;129;01min\u001b[39;00m arrays]\n\u001b[0;32m--> 493\u001b[0m \u001b[38;5;28;01mreturn\u001b[39;00m \u001b[43marrays_to_mgr\u001b[49m\u001b[43m(\u001b[49m\u001b[43marrays\u001b[49m\u001b[43m,\u001b[49m\u001b[43m \u001b[49m\u001b[43mcolumns\u001b[49m\u001b[43m,\u001b[49m\u001b[43m \u001b[49m\u001b[43mindex\u001b[49m\u001b[43m,\u001b[49m\u001b[43m \u001b[49m\u001b[43mdtype\u001b[49m\u001b[38;5;241;43m=\u001b[39;49m\u001b[43mdtype\u001b[49m\u001b[43m,\u001b[49m\u001b[43m \u001b[49m\u001b[43mtyp\u001b[49m\u001b[38;5;241;43m=\u001b[39;49m\u001b[43mtyp\u001b[49m\u001b[43m,\u001b[49m\u001b[43m \u001b[49m\u001b[43mconsolidate\u001b[49m\u001b[38;5;241;43m=\u001b[39;49m\u001b[43mcopy\u001b[49m\u001b[43m)\u001b[49m\n",
      "File \u001b[0;32m~/Desktop/GRUS/caret1/lib/python3.8/site-packages/pandas/core/internals/construction.py:118\u001b[0m, in \u001b[0;36marrays_to_mgr\u001b[0;34m(arrays, columns, index, dtype, verify_integrity, typ, consolidate)\u001b[0m\n\u001b[1;32m    115\u001b[0m \u001b[38;5;28;01mif\u001b[39;00m verify_integrity:\n\u001b[1;32m    116\u001b[0m     \u001b[38;5;66;03m# figure out the index, if necessary\u001b[39;00m\n\u001b[1;32m    117\u001b[0m     \u001b[38;5;28;01mif\u001b[39;00m index \u001b[38;5;129;01mis\u001b[39;00m \u001b[38;5;28;01mNone\u001b[39;00m:\n\u001b[0;32m--> 118\u001b[0m         index \u001b[38;5;241m=\u001b[39m \u001b[43m_extract_index\u001b[49m\u001b[43m(\u001b[49m\u001b[43marrays\u001b[49m\u001b[43m)\u001b[49m\n\u001b[1;32m    119\u001b[0m     \u001b[38;5;28;01melse\u001b[39;00m:\n\u001b[1;32m    120\u001b[0m         index \u001b[38;5;241m=\u001b[39m ensure_index(index)\n",
      "File \u001b[0;32m~/Desktop/GRUS/caret1/lib/python3.8/site-packages/pandas/core/internals/construction.py:666\u001b[0m, in \u001b[0;36m_extract_index\u001b[0;34m(data)\u001b[0m\n\u001b[1;32m    664\u001b[0m lengths \u001b[38;5;241m=\u001b[39m \u001b[38;5;28mlist\u001b[39m(\u001b[38;5;28mset\u001b[39m(raw_lengths))\n\u001b[1;32m    665\u001b[0m \u001b[38;5;28;01mif\u001b[39;00m \u001b[38;5;28mlen\u001b[39m(lengths) \u001b[38;5;241m>\u001b[39m \u001b[38;5;241m1\u001b[39m:\n\u001b[0;32m--> 666\u001b[0m     \u001b[38;5;28;01mraise\u001b[39;00m \u001b[38;5;167;01mValueError\u001b[39;00m(\u001b[38;5;124m\"\u001b[39m\u001b[38;5;124mAll arrays must be of the same length\u001b[39m\u001b[38;5;124m\"\u001b[39m)\n\u001b[1;32m    668\u001b[0m \u001b[38;5;28;01mif\u001b[39;00m have_dicts:\n\u001b[1;32m    669\u001b[0m     \u001b[38;5;28;01mraise\u001b[39;00m \u001b[38;5;167;01mValueError\u001b[39;00m(\n\u001b[1;32m    670\u001b[0m         \u001b[38;5;124m\"\u001b[39m\u001b[38;5;124mMixing dicts with non-Series may lead to ambiguous ordering.\u001b[39m\u001b[38;5;124m\"\u001b[39m\n\u001b[1;32m    671\u001b[0m     )\n",
      "\u001b[0;31mValueError\u001b[0m: All arrays must be of the same length"
     ]
    }
   ],
   "source": [
    "meanshift = MeanShift()\n",
    "affinity = AffinityPropagation()\n",
    "dbscan = DBSCAN()\n",
    "optics = OPTICS()\n",
    "scores2 = []  # feed in experiments as a dictionary of parameters and scores\n",
    "algorithms2 = [(meanshift, 'Meanshift'), (affinity, 'Affinity'), (dbscan, 'DBSCAN'), (optics, 'OPTICS')]\n",
    "for algorithm, name in algorithms2: # Loop over the algorithms and calculate the silhouette score for each\n",
    "        algorithm.fit(data) \n",
    "        score= silhouette_score(data, algorithm.labels_) \n",
    "        fin = {\"algo\":algorithm.labels_, \"score\":score, \"size\":c} \n",
    "        scores2.append(fin) \n",
    "# Create a dataframe to store the results \n",
    "results2 = pd.DataFrame(scores2) #{'Algorithm': [name for _, name in algorithms2], 'Silhouette Score': scores2}) \n",
    "print(results2)"
   ]
  },
  {
   "cell_type": "code",
   "execution_count": null,
   "id": "a6a15528-edfd-4a01-9d9d-afc98a96c11c",
   "metadata": {},
   "outputs": [],
   "source": [
    "# append cluster to each row in your data source, example\n",
    "\n",
    "from sklearn.cluster import SpectralClustering\n",
    "\n",
    "# Assuming 'df' is a pandas dataframe\n",
    "# Replace 'affinity' with the appropriate affinity matrix\n",
    "# Replace 'n_clusters' with the desired number of clusters\n",
    "clustering = SpectralClustering(affinity='...', n_clusters=..., random_state=0).fit(df)\n",
    "\n",
    "# Add a new column to the dataframe with the cluster names\n",
    "df['cluster_name'] = clustering.labels_\n"
   ]
  },
  {
   "cell_type": "markdown",
   "id": "39ec91dc-e6a0-4194-a7fe-e7c04cd31b42",
   "metadata": {},
   "source": [
    "## notes "
   ]
  },
  {
   "cell_type": "markdown",
   "id": "ed17c724-9a6c-4280-a565-b4a9f9904db8",
   "metadata": {},
   "source": [
    "1. grid search notes on [sklearn](https://scikit-learn.org/stable/modules/grid_search.html#grid-search)\n",
    "2. sklearn pipeline [guide](https://scikit-learn.org/stable/modules/compose.html#pipeline)"
   ]
  },
  {
   "cell_type": "code",
   "execution_count": null,
   "id": "0841e38e-096e-4c7e-8ef0-63b78da010b8",
   "metadata": {},
   "outputs": [],
   "source": [
    "# USE A PIPELINE ONCE YOU IDENTIFY A CLUSTER/ CLASSIFY SET\n",
    "\n",
    "from sklearn.cluster import KMeans, AgglomerativeClustering, DBSCAN #cluster types\n",
    "from sklearn.model_selection import GridSearchCV\n",
    "from sklearn.pipeline import Pipeline\n",
    "from sklearn.preprocessing import StandardScaler\n",
    "\n",
    "# Define the pipeline\n",
    "pipe = Pipeline([\n",
    "    ('scaler', StandardScaler()),\n",
    "    ('cluster', KMeans())\n",
    "])\n",
    "\n",
    "# Define the parameter grid\n",
    "param_grid = {\n",
    "    'cluster': [KMeans(), AgglomerativeClustering(), DBSCAN()],\n",
    "    'cluster__n_clusters': range(2, 11),\n",
    "    'cluster__eps': [0.1, 0.5, 1],\n",
    "    'cluster__min_samples': [2, 5, 10]\n",
    "}\n",
    "\n",
    "# Perform the grid search\n",
    "grid_search = GridSearchCV(pipe, param_grid=param_grid, cv=5)\n",
    "grid_search.fit(X)\n",
    "\n",
    "# Print the best parameters and score\n",
    "print(\"Best parameters: \", grid_search.best_params_)\n",
    "print(\"Best score: \", grid_search.best_score_)\n"
   ]
  }
 ],
 "metadata": {
  "kernelspec": {
   "display_name": "Python 3 (ipykernel)",
   "language": "python",
   "name": "python3"
  },
  "language_info": {
   "codemirror_mode": {
    "name": "ipython",
    "version": 3
   },
   "file_extension": ".py",
   "mimetype": "text/x-python",
   "name": "python",
   "nbconvert_exporter": "python",
   "pygments_lexer": "ipython3",
   "version": "3.8.10"
  }
 },
 "nbformat": 4,
 "nbformat_minor": 5
}
