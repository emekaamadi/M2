{
 "cells": [
  {
   "cell_type": "markdown",
   "id": "9aaa4fcc-1a03-4f20-a9dd-7ce3d60ccb52",
   "metadata": {},
   "source": [
    "## premise: Grid search for clustering solution\n",
    "\n",
    "via skleanr pipeline and grid search"
   ]
  },
  {
   "cell_type": "code",
   "execution_count": 1,
   "id": "db9b5d97-4176-40d4-812d-94a933e75878",
   "metadata": {},
   "outputs": [
    {
     "ename": "NameError",
     "evalue": "name 'X' is not defined",
     "output_type": "error",
     "traceback": [
      "\u001b[0;31m---------------------------------------------------------------------------\u001b[0m",
      "\u001b[0;31mNameError\u001b[0m                                 Traceback (most recent call last)",
      "Cell \u001b[0;32mIn[1], line 22\u001b[0m\n\u001b[1;32m     20\u001b[0m \u001b[38;5;66;03m# Perform the grid search\u001b[39;00m\n\u001b[1;32m     21\u001b[0m grid_search \u001b[38;5;241m=\u001b[39m GridSearchCV(pipe, param_grid\u001b[38;5;241m=\u001b[39mparam_grid, cv\u001b[38;5;241m=\u001b[39m\u001b[38;5;241m5\u001b[39m)\n\u001b[0;32m---> 22\u001b[0m grid_search\u001b[38;5;241m.\u001b[39mfit(\u001b[43mX\u001b[49m)\n\u001b[1;32m     24\u001b[0m \u001b[38;5;66;03m# Print the best parameters and score\u001b[39;00m\n\u001b[1;32m     25\u001b[0m \u001b[38;5;28mprint\u001b[39m(\u001b[38;5;124m\"\u001b[39m\u001b[38;5;124mBest parameters: \u001b[39m\u001b[38;5;124m\"\u001b[39m, grid_search\u001b[38;5;241m.\u001b[39mbest_params_)\n",
      "\u001b[0;31mNameError\u001b[0m: name 'X' is not defined"
     ]
    }
   ],
   "source": [
    "from sklearn.cluster import KMeans, AgglomerativeClustering, DBSCAN #cluster types\n",
    "from sklearn.model_selection import GridSearchCV\n",
    "from sklearn.pipeline import Pipeline\n",
    "from sklearn.preprocessing import StandardScaler\n",
    "\n",
    "# Define the pipeline\n",
    "pipe = Pipeline([\n",
    "    ('scaler', StandardScaler()),\n",
    "    ('cluster', KMeans())\n",
    "])\n",
    "\n",
    "# Define the parameter grid\n",
    "param_grid = {\n",
    "    'cluster': [KMeans(), AgglomerativeClustering(), DBSCAN()],\n",
    "    'cluster__n_clusters': range(2, 11),\n",
    "    'cluster__eps': [0.1, 0.5, 1],\n",
    "    'cluster__min_samples': [2, 5, 10]\n",
    "}\n",
    "\n",
    "# Perform the grid search\n",
    "grid_search = GridSearchCV(pipe, param_grid=param_grid, cv=5)\n",
    "grid_search.fit(X)\n",
    "\n",
    "# Print the best parameters and score\n",
    "print(\"Best parameters: \", grid_search.best_params_)\n",
    "print(\"Best score: \", grid_search.best_score_)\n"
   ]
  },
  {
   "cell_type": "markdown",
   "id": "39ec91dc-e6a0-4194-a7fe-e7c04cd31b42",
   "metadata": {},
   "source": [
    "## notes "
   ]
  },
  {
   "cell_type": "markdown",
   "id": "ed17c724-9a6c-4280-a565-b4a9f9904db8",
   "metadata": {},
   "source": [
    "1. grid search notes on [sklearn](https://scikit-learn.org/stable/modules/grid_search.html#grid-search)\n",
    "2. sklearn pipeline [guide](https://scikit-learn.org/stable/modules/compose.html#pipeline)"
   ]
  }
 ],
 "metadata": {
  "kernelspec": {
   "display_name": "Python 3 (ipykernel)",
   "language": "python",
   "name": "python3"
  },
  "language_info": {
   "codemirror_mode": {
    "name": "ipython",
    "version": 3
   },
   "file_extension": ".py",
   "mimetype": "text/x-python",
   "name": "python",
   "nbconvert_exporter": "python",
   "pygments_lexer": "ipython3",
   "version": "3.8.10"
  }
 },
 "nbformat": 4,
 "nbformat_minor": 5
}
